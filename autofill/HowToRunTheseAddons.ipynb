{
 "cells": [
  {
   "cell_type": "markdown",
   "source": [
    "# Running the program\n",
    ">### Installing Python Modules\n",
    "> Enable Developer Extras in Python\n",
    ">In order to run this program, First we must install the relevant addons, then run the code.\n",
    "> To install the addons, copy and paste the below lines of code into a new blender python file and hit run.\n",
    ">Make sure you have run blender as an administrator"
   ],
   "metadata": {
    "collapsed": false
   },
   "outputs": []
  },
  {
   "cell_type": "code",
   "execution_count": null,
   "outputs": [],
   "source": [
    "import subprocess\n",
    "import sys\n",
    "import os\n",
    "\n",
    "python_exe = os.path.join(sys.prefix, 'bin', 'python.exe')\n",
    "target = os.path.join(sys.prefix, 'lib', 'site-packages')\n",
    "\n",
    "subprocess.call([python_exe, '-m', 'ensurepip'])\n",
    "subprocess.call([python_exe, '-m', 'pip', 'install', '--upgrade', 'pip'])\n",
    "\n",
    "subprocess.call([python_exe, '-m', 'pip', 'install', '--upgrade', 'pyperclip', '-t', target])\n",
    "\n",
    "print('========== Project Setup Finished ==========')"
   ],
   "metadata": {
    "collapsed": false
   }
  },
  {
   "cell_type": "markdown",
   "source": [
    ">### Running Addons\n",
    "> Next, to run the addon itself, delete the previous lines and copy and paste the code below\n",
    ">\n",
    ">Add the location and name of the addon you want to run to line 17\n",
    ">\n",
    "> Click run"
   ],
   "metadata": {
    "collapsed": false
   }
  },
  {
   "cell_type": "code",
   "execution_count": null,
   "outputs": [],
   "source": [
    "import os\n",
    "\n",
    "filename = os.path.join(r\"C:\\Users\\night\\Documents\\BlenderAddons\\autofill\\BlenderAutofill\\autofill\", r\"PlayPythonFromMemory.py\")\n",
    "exec(compile(open(filename).read(), filename, 'exec'))\n",
    "\n",
    "filename = os.path.join(r\"C:\\Users\\night\\Documents\\BlenderAddons\\autofill\\BlenderAutofill\\autofill\", r\"CopyFromInfo.py\")\n",
    "exec(compile(open(filename).read(), filename, 'exec'))\n"
   ],
   "metadata": {
    "collapsed": false
   }
  },
  {
   "cell_type": "markdown",
   "source": [
    "## Code Explanation:\n",
    ">the below code gets the pip addon manager and installs pynput, the input manager that the software uses.\n",
    ">Then it installs the addon pynput. to install another addon, change what is written in line 11 where it says 'pinput'"
   ],
   "metadata": {
    "collapsed": false
   }
  },
  {
   "cell_type": "code",
   "execution_count": null,
   "outputs": [],
   "source": [
    "import subprocess\n",
    "import sys\n",
    "import os\n",
    "\n",
    "python_exe = os.path.join(sys.prefix, 'bin', 'python.exe')\n",
    "target = os.path.join(sys.prefix, 'lib', 'site-packages')\n",
    "\n",
    "subprocess.call([python_exe, '-m', 'ensurepip'])\n",
    "subprocess.call([python_exe, '-m', 'pip', 'install', '--upgrade', 'pip'])\n",
    "\n",
    "subprocess.call([python_exe, '-m', 'pip', 'install', '--upgrade', 'pyperclip', '-t', target])\n",
    "\n",
    "print('========== Project Setup Finished ==========')\n"
   ],
   "metadata": {
    "collapsed": false
   }
  },
  {
   "cell_type": "markdown",
   "source": [
    ">The next code block executes the addon code. If finds the file under the filename line and executes.\n",
    ">To change the selected file, write the file path in the first string input and the file name in the second."
   ],
   "metadata": {
    "collapsed": false
   }
  },
  {
   "cell_type": "code",
   "execution_count": null,
   "outputs": [],
   "source": [
    "import bpy\n",
    "\n",
    "\n",
    "filename = os.path.join(r\"C:\\Users\\night\\Documents\\BlenderAddons\\autofill\\autofill\", r\"main.py\")\n",
    "exec(compile(open(filename).read(), filename, 'exec'))\n",
    "\n"
   ],
   "metadata": {
    "collapsed": false
   }
  },
  {
   "cell_type": "code",
   "execution_count": null,
   "outputs": [],
   "source": [],
   "metadata": {
    "collapsed": false
   }
  }
 ],
 "metadata": {
  "kernelspec": {
   "display_name": "Python 3",
   "language": "python",
   "name": "python3"
  },
  "language_info": {
   "codemirror_mode": {
    "name": "ipython",
    "version": 2
   },
   "file_extension": ".py",
   "mimetype": "text/x-python",
   "name": "python",
   "nbconvert_exporter": "python",
   "pygments_lexer": "ipython2",
   "version": "2.7.6"
  }
 },
 "nbformat": 4,
 "nbformat_minor": 0
}
